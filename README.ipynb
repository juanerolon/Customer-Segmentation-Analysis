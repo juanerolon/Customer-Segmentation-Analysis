{
 "cells": [
  {
   "cell_type": "markdown",
   "metadata": {},
   "source": [
    "# Customer Segmentation Analysis via Unsupervised Learning"
   ]
  },
  {
   "cell_type": "markdown",
   "metadata": {},
   "source": [
    "<img src=\"segments_logo.jpg\"\n",
    "     alt=\"customer_segments\"\n",
    "     style=\"float: left; margin-right: 10px; width: 250px;\" />"
   ]
  },
  {
   "cell_type": "markdown",
   "metadata": {},
   "source": [
    "## Project Overview\n",
    "\n",
    "In this project, I analyze a dataset containing data on various customers' annual spending amounts (reported in monetary units) of diverse product categories for internal structure. \n",
    "\n",
    "One goal of this project is to best describe the variation in the different types of customers that a wholesale distributor interacts with. Doing so would equip the distributor with insight into how to best structure their delivery service to meet the needs of each customer.  \n",
    "\n",
    "The dataset for this project can be found on the UCI Machine Learning Repository.\n",
    "For the purposes of this project, the features 'Channel' and 'Region' will be excluded in the analysis — with focus instead on the six product categories recorded for customers.  \n",
    "\n",
    "This project was submitted as part of the requisites required to obtain Machine Learning Engineer Nanodegree from Udacity. \n",
    "\n",
    "### Installation\n",
    "\n",
    "This project requires **Python 2.7** and the following Python libraries installed:\n",
    "\n",
    "- [NumPy](http://www.numpy.org/)\n",
    "- [Pandas](http://pandas.pydata.org)\n",
    "- [matplotlib](http://matplotlib.org/)\n",
    "- [scikit-learn](http://scikit-learn.org/stable/)\n",
    "\n",
    "You will also need to have software installed to run and execute a [Jupyter Notebook](http://ipython.org/notebook.html)\n",
    "\n",
    "If you do not have Python installed yet, it is highly recommended that you install the [Anaconda](http://continuum.io/downloads) distribution of Python, which already has the above packages and more included. Make sure that you select the Python 2.7 installer and not the Python 3.x installer. \n",
    "\n",
    "### Code\n",
    "\n",
    "- The code of this project is provided in the `customer_segments.ipynb` notebook file.   \n",
    "\n",
    "- You will also be required to use the included `visuals.py` Python file and the `customers.csv` dataset file to complete your work.   \n",
    "\n",
    "- The code included in `visuals.py` is meant to be used out-of-the-box; feel free to modify it if you consider so. It produces graphs for soem of the visualizations created in the project ipython notebook.\n",
    "\n",
    "### Run\n",
    "\n",
    "In a terminal or command window, navigate to the top-level project directory `customer_segments/` (that contains this README) and run one of the following commands:\n",
    "\n",
    "```bash\n",
    "ipython notebook customer_segments.ipynb\n",
    "```  \n",
    "or\n",
    "```bash\n",
    "jupyter notebook customer_segments.ipynb\n",
    "```\n",
    "\n",
    "This will open the Jupyter Notebook software and project file in your browser.\n",
    "\n",
    "### Datasets\n",
    "\n",
    "The customer segments data is included as a selection of 440 data points collected on data found from clients of a wholesale distributor in Lisbon, Portugal.   \n",
    "\n",
    "More information can be found on the [UCI Machine Learning Repository](https://archive.ics.uci.edu/ml/datasets/Wholesale+customers).\n",
    "\n",
    "Note (m.u.) is shorthand for *monetary units*.\n",
    "\n",
    "**Features**\n",
    "1) `Fresh`: annual spending (m.u.) on fresh products (Continuous); \n",
    "2) `Milk`: annual spending (m.u.) on milk products (Continuous); \n",
    "3) `Grocery`: annual spending (m.u.) on grocery products (Continuous); \n",
    "4) `Frozen`: annual spending (m.u.) on frozen products (Continuous);\n",
    "5) `Detergents_Paper`: annual spending (m.u.) on detergents and paper products (Continuous);\n",
    "6) `Delicatessen`: annual spending (m.u.) on and delicatessen products (Continuous); \n",
    "7) `Channel`: {Hotel/Restaurant/Cafe - 1, Retail - 2} (Nominal)\n",
    "8) `Region`: {Lisbon - 1, Oporto - 2, or Other - 3} (Nominal) "
   ]
  },
  {
   "cell_type": "code",
   "execution_count": null,
   "metadata": {
    "collapsed": true
   },
   "outputs": [],
   "source": []
  }
 ],
 "metadata": {
  "kernelspec": {
   "display_name": "Python 3",
   "language": "python",
   "name": "python3"
  },
  "language_info": {
   "codemirror_mode": {
    "name": "ipython",
    "version": 3
   },
   "file_extension": ".py",
   "mimetype": "text/x-python",
   "name": "python",
   "nbconvert_exporter": "python",
   "pygments_lexer": "ipython3",
   "version": "3.5.3"
  }
 },
 "nbformat": 4,
 "nbformat_minor": 2
}
